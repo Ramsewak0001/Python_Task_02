{
 "cells": [
  {
   "cell_type": "code",
   "execution_count": null,
   "id": "0e362c95-1d3f-4ea8-8ea6-9bdda65cf15f",
   "metadata": {},
   "outputs": [],
   "source": [
    "Q1. You are writing code for a company. The requirement of the company is that you create a python\n",
    "function that will check whether the password entered by the user is correct or not. The function should\n",
    "take the password as input and return the string “Valid Password” if the entered password follows the\n",
    "below-given password guidelines else it should return “Invalid Password”.\n",
    "Note: 1. The Password should contain at least two uppercase letters and at least two lowercase letters.\n",
    "2. The Password should contain at least a number and three special characters.\n",
    "3. The length of the password should be 10 characters long."
   ]
  },
  {
   "cell_type": "code",
   "execution_count": 1,
   "id": "81db1f46-714d-44cb-a25e-0a0d3ddc7d36",
   "metadata": {},
   "outputs": [],
   "source": [
    "def check_password (password):\n",
    "    upper=0\n",
    "    lower=0\n",
    "    num=0\n",
    "    special=0\n",
    "    for char in password :\n",
    "        if char.isupper():\n",
    "            upper += 1\n",
    "        elif char.islower():\n",
    "            lower += 1\n",
    "        elif char.isdigit():\n",
    "            num += 1\n",
    "        else :\n",
    "            special += 1\n",
    "    if len(password)<10:\n",
    "        print(\"Invalid Password\")\n",
    "    elif upper>=2 and lower>=2 and num>=1 and special>=3 :\n",
    "        print(\"Valid Password\")\n",
    "    else :\n",
    "        print(\"Invalid Password\")"
   ]
  },
  {
   "cell_type": "code",
   "execution_count": 2,
   "id": "4f6e2360-d30a-459e-9872-8b1cc7abfeee",
   "metadata": {},
   "outputs": [
    {
     "name": "stdout",
     "output_type": "stream",
     "text": [
      "Valid Password\n"
     ]
    }
   ],
   "source": [
    "check_password(\"RAMsewak$#@123\")"
   ]
  },
  {
   "cell_type": "code",
   "execution_count": 3,
   "id": "6e0ceaa0-7d0e-4908-a66c-dd42e9ae34ab",
   "metadata": {},
   "outputs": [
    {
     "name": "stdout",
     "output_type": "stream",
     "text": [
      "Invalid Password\n"
     ]
    }
   ],
   "source": [
    "check_password(\"Ram@123\")"
   ]
  },
  {
   "cell_type": "code",
   "execution_count": null,
   "id": "411742ac-6416-40a9-bea0-344de7310071",
   "metadata": {},
   "outputs": [],
   "source": [
    "Q2. Solve the below-given questions using at least one of the following:\n",
    "1. Lambda functioJ\n",
    "2. Filter functioJ\n",
    "3. Zap functioJ\n",
    "4. List ComprehensioI\n",
    " Check if the string starts with a particular letter\n",
    " Check if the string is numeric\n",
    " Sort a list of tuples having fruit names and their quantity. [(\"mango\",99),(\"orange\",80), (\"grapes\", 1000)\n",
    " Find the squares of numbers from 1 to 10\n",
    " Find the cube root of numbers from 1 to 10\n",
    " Check if a given number is even\n",
    " Filter odd numbers from the given list. [1,2,3,4,5,6,7,8,9,10]\n",
    " Sort a list of integers into positive and negative integers lists. [1,2,3,4,5,6,-1,-2,-3,-4,-5,0]"
   ]
  },
  {
   "cell_type": "code",
   "execution_count": 18,
   "id": "9e13e75f-72d3-4526-94c2-f1e0f6f35d3b",
   "metadata": {},
   "outputs": [],
   "source": [
    "## Check if the string starts with a particular letter\n",
    "start_letter = lambda string , letter : string.startswith(letter)"
   ]
  },
  {
   "cell_type": "code",
   "execution_count": 19,
   "id": "7f63fcfa-eea3-4fa9-8f14-1df2aaa020a5",
   "metadata": {},
   "outputs": [
    {
     "data": {
      "text/plain": [
       "True"
      ]
     },
     "execution_count": 19,
     "metadata": {},
     "output_type": "execute_result"
    }
   ],
   "source": [
    "start_letter(\"RAM\" ,\"R\")"
   ]
  },
  {
   "cell_type": "code",
   "execution_count": 20,
   "id": "9419d6e6-1765-4c61-8aa9-cfac6f2021b4",
   "metadata": {},
   "outputs": [],
   "source": [
    "## Check if the string is numeric\n",
    "string_numeric = lambda string : string.isnumeric()"
   ]
  },
  {
   "cell_type": "code",
   "execution_count": 21,
   "id": "c84ad788-5db3-413b-9c74-bc1e81ccb52f",
   "metadata": {},
   "outputs": [
    {
     "data": {
      "text/plain": [
       "True"
      ]
     },
     "execution_count": 21,
     "metadata": {},
     "output_type": "execute_result"
    }
   ],
   "source": [
    "string_numeric(\"12345\")"
   ]
  },
  {
   "cell_type": "code",
   "execution_count": 22,
   "id": "631f8144-31a7-49db-b0b7-9950113fdfda",
   "metadata": {},
   "outputs": [
    {
     "data": {
      "text/plain": [
       "False"
      ]
     },
     "execution_count": 22,
     "metadata": {},
     "output_type": "execute_result"
    }
   ],
   "source": [
    "string_numeric(\"AAA45\")"
   ]
  },
  {
   "cell_type": "code",
   "execution_count": 23,
   "id": "94c955e2-a017-472e-908d-60a98b98359c",
   "metadata": {},
   "outputs": [
    {
     "name": "stdout",
     "output_type": "stream",
     "text": [
      "[('orange', 80), ('mango', 99), ('grapes', 1000)]\n"
     ]
    }
   ],
   "source": [
    "##  Sort a list of tuples having fruit names and their quantity. [(\"mango\",99),(\"orange\",80), (\"grapes\", 1000)\n",
    "fruits = [(\"mango\", 99), (\"orange\", 80), (\"grapes\", 1000)]\n",
    "sorted_fruits = sorted(fruits, key=lambda x: x[1])\n",
    "print(sorted_fruits)"
   ]
  },
  {
   "cell_type": "code",
   "execution_count": 25,
   "id": "6a5c74e5-3f67-46f5-89a6-4975666c98d2",
   "metadata": {},
   "outputs": [
    {
     "data": {
      "text/plain": [
       "[1, 4, 9, 16, 25, 36, 49, 64, 81, 100]"
      ]
     },
     "execution_count": 25,
     "metadata": {},
     "output_type": "execute_result"
    }
   ],
   "source": [
    "## Find the squares of numbers from 1 to 10\n",
    "l = list(range(1,11))\n",
    "list(map(lambda x : x**2 , l))"
   ]
  },
  {
   "cell_type": "code",
   "execution_count": 26,
   "id": "3c13ee46-e2af-4bb0-930a-76f56bf325bf",
   "metadata": {},
   "outputs": [
    {
     "data": {
      "text/plain": [
       "[1.0,\n",
       " 1.2599210498948732,\n",
       " 1.4422495703074083,\n",
       " 1.5874010519681994,\n",
       " 1.7099759466766968,\n",
       " 1.8171205928321397,\n",
       " 1.912931182772389,\n",
       " 2.0,\n",
       " 2.080083823051904,\n",
       " 2.154434690031884]"
      ]
     },
     "execution_count": 26,
     "metadata": {},
     "output_type": "execute_result"
    }
   ],
   "source": [
    "## Find the cube root of numbers from 1 to 10\n",
    "l = list(range(1,11))\n",
    "list(map(lambda x : pow(x,1/3) , l))"
   ]
  },
  {
   "cell_type": "code",
   "execution_count": 32,
   "id": "f8ff3ef5-f88a-4237-84b6-16c6782f6d3c",
   "metadata": {},
   "outputs": [
    {
     "name": "stdout",
     "output_type": "stream",
     "text": [
      "True\n"
     ]
    }
   ],
   "source": [
    "## Check if a given number is even\n",
    "even = lambda number : number % 2 == 0 \n",
    "print(even(4))"
   ]
  },
  {
   "cell_type": "code",
   "execution_count": 33,
   "id": "727cf342-6b5b-4b38-9fbe-c2c34f5c1a8f",
   "metadata": {},
   "outputs": [
    {
     "data": {
      "text/plain": [
       "[1, 3, 5, 7, 9]"
      ]
     },
     "execution_count": 33,
     "metadata": {},
     "output_type": "execute_result"
    }
   ],
   "source": [
    "## Filter odd numbers from the given list. [1,2,3,4,5,6,7,8,9,10]\n",
    "l = [1,2,3,4,5,6,7,8,9,10]\n",
    "list(filter(lambda x : x % 2 != 0 , l))"
   ]
  },
  {
   "cell_type": "code",
   "execution_count": 39,
   "id": "cafc6b93-9dc4-407f-8e8b-22574e919314",
   "metadata": {},
   "outputs": [
    {
     "name": "stdout",
     "output_type": "stream",
     "text": [
      "[1, 2, 3, 4, 5, 6, 0]\n",
      "[-1, -2, -3, -4, -5]\n"
     ]
    }
   ],
   "source": [
    "##  Sort a list of integers into positive and negative integers lists. [1,2,3,4,5,6,-1,-2,-3,-4,-5,0]\n",
    "l =  [1,2,3,4,5,6,-1,-2,-3,-4,-5,0]\n",
    "l1 = list(filter(lambda x : x>=0,l))\n",
    "l2 = list(filter(lambda x : x< 0,l))\n",
    "print(l1)\n",
    "print(l2)"
   ]
  },
  {
   "cell_type": "code",
   "execution_count": null,
   "id": "20534809-3143-4537-b4dd-c79b8b718462",
   "metadata": {},
   "outputs": [],
   "source": []
  }
 ],
 "metadata": {
  "kernelspec": {
   "display_name": "Python 3 (ipykernel)",
   "language": "python",
   "name": "python3"
  },
  "language_info": {
   "codemirror_mode": {
    "name": "ipython",
    "version": 3
   },
   "file_extension": ".py",
   "mimetype": "text/x-python",
   "name": "python",
   "nbconvert_exporter": "python",
   "pygments_lexer": "ipython3",
   "version": "3.10.8"
  }
 },
 "nbformat": 4,
 "nbformat_minor": 5
}
